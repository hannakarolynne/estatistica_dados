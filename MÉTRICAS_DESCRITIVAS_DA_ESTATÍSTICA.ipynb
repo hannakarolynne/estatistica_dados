{
  "nbformat": 4,
  "nbformat_minor": 0,
  "metadata": {
    "colab": {
      "provenance": [],
      "authorship_tag": "ABX9TyM8qn7dtNh78fTa9/aR16UY"
    },
    "kernelspec": {
      "name": "python3",
      "display_name": "Python 3"
    },
    "language_info": {
      "name": "python"
    }
  },
  "cells": [
    {
      "cell_type": "markdown",
      "source": [
        "# 1. IMPORTAR BIBLIOTECAS NECESSÁRIAS"
      ],
      "metadata": {
        "id": "uQz1971zS6v9"
      }
    },
    {
      "cell_type": "code",
      "execution_count": null,
      "metadata": {
        "id": "A6FM7kE-CKOl"
      },
      "outputs": [],
      "source": [
        "import numpy as np\n",
        "import pandas as pd\n",
        "import matplotlib.pyplot as plt\n",
        "from scipy.stats import skew, kurtosis"
      ]
    },
    {
      "cell_type": "markdown",
      "source": [
        "# 2. CRIAÇÃO DO DATASET DE VENDAS JAN-JUN"
      ],
      "metadata": {
        "id": "GOR2CierTCM3"
      }
    },
    {
      "cell_type": "code",
      "source": [
        "\n",
        "dados = {'Mês': ['Janeiro', 'Fevereiro', 'Março', 'Abril', 'Maio','Junho'],\n",
        "         'Vendas': [300,450,85,157,560,315],\n",
        "         'Pesos':[3,2,3,1,1,2]}\n",
        "\n",
        "df = pd.DataFrame(dados)\n",
        "\n",
        "print(df)"
      ],
      "metadata": {
        "colab": {
          "base_uri": "https://localhost:8080/"
        },
        "id": "c7aNRi7JDfaW",
        "outputId": "cd2d9988-a9ce-462d-8c85-08129b8f9bfe"
      },
      "execution_count": null,
      "outputs": [
        {
          "output_type": "stream",
          "name": "stdout",
          "text": [
            "         Mês  Vendas  Pesos\n",
            "0    Janeiro     300      3\n",
            "1  Fevereiro     450      2\n",
            "2      Março      85      3\n",
            "3      Abril     157      1\n",
            "4       Maio     560      1\n",
            "5      Junho     315      2\n"
          ]
        }
      ]
    },
    {
      "cell_type": "markdown",
      "source": [
        "# MÉTRICAS COM NUMPY\n",
        "\n",
        "\n"
      ],
      "metadata": {
        "id": "U6w3C5DjTKKA"
      }
    },
    {
      "cell_type": "code",
      "source": [
        "print(f'MÉDIA, MEDIANA E MODA COM NUMPY \\n')\n",
        "\n",
        "media_v = np.mean(df['Vendas'])\n",
        "print(f\"Média: {media_v}\\n\")\n",
        "\n",
        "mediana_v=np.median(df['Vendas'])\n",
        "print(f\"Mediana: {mediana_v}\\n\")\n",
        "\n",
        "minimo_v = np.min(df['Vendas'])\n",
        "print(f\"Mínimo: {minimo_v}\\n\")\n",
        "\n",
        "maximo_v = np.max(df['Vendas'])\n",
        "print(f\"Máximo: {maximo_v}\\n\")\n",
        "\n",
        "ponderada_v = np.average(df['Vendas'], weights = df['Pesos'])\n",
        "print(f\"Ponderada: {ponderada_v}\\n\")"
      ],
      "metadata": {
        "colab": {
          "base_uri": "https://localhost:8080/"
        },
        "id": "BWFnKaqVGTFr",
        "outputId": "e27d8c33-53a7-4a33-c159-b9c520e59e4e"
      },
      "execution_count": null,
      "outputs": [
        {
          "output_type": "stream",
          "name": "stdout",
          "text": [
            "MÉDIA, MEDIANA E MODA COM NUMPY \n",
            "\n",
            "Média: 311.1666666666667\n",
            "\n",
            "Mediana: 307.5\n",
            "\n",
            "Mínimo: 85\n",
            "\n",
            "Máximo: 560\n",
            "\n",
            "Ponderada: 283.5\n",
            "\n"
          ]
        }
      ]
    },
    {
      "cell_type": "markdown",
      "source": [
        "# MÉTRICAS COM PANDAS"
      ],
      "metadata": {
        "id": "KMbZ853ATZgf"
      }
    },
    {
      "cell_type": "code",
      "source": [
        "print(f'MÉDIA, MEDIANA E MODA COM NUMPY \\n')\n",
        "\n",
        "moda_v = df['Vendas'].mode()\n",
        "print(f\"{moda_v}\\n\")\n",
        "\n",
        "zeromoda_v = df['Vendas'].mode().iloc[0]\n",
        "print(f\"indice 0 da moda: {zeromoda_v} \\n\")\n",
        "\n",
        "amplitude_v = df['Vendas'].max() - df['Vendas'].min()\n",
        "print(f\"Amplitude:{amplitude_v} \\n\")\n",
        "\n",
        "variancia_v = df['Vendas'].var()\n",
        "print(f\"Variância:{variancia_v}\\n\")\n",
        "\n",
        "desvio_v=df['Vendas'].std()\n",
        "print(f\"Desvio padrão: {desvio_v:.1f}\\n\")\n",
        "\n",
        "primeiroq_v = df['Vendas'].quantile(0.25)\n",
        "print(f\"primeiro quartil: {primeiroq_v}\\n\")\n",
        "\n",
        "terceiroq_v = df['Vendas'].quantile(0.75)\n",
        "print(f\"terceiro quartil: {terceiroq_v}\\n\")"
      ],
      "metadata": {
        "colab": {
          "base_uri": "https://localhost:8080/"
        },
        "id": "eWGkzHq_IkL1",
        "outputId": "29af667b-ea9d-4c69-d1f2-ce5c0a017000"
      },
      "execution_count": null,
      "outputs": [
        {
          "output_type": "stream",
          "name": "stdout",
          "text": [
            "MÉDIA, MEDIANA E MODA COM NUMPY \n",
            "\n",
            "0     85\n",
            "1    157\n",
            "2    300\n",
            "3    315\n",
            "4    450\n",
            "5    560\n",
            "Name: Vendas, dtype: int64\n",
            "\n",
            "indice 0 da moda: 85 \n",
            "\n",
            "Amplitude:475 \n",
            "\n",
            "Variância:31250.166666666664\n",
            "\n",
            "Desvio padrão: 176.8\n",
            "\n",
            "primeiro quartil: 192.75\n",
            "\n",
            "terceiro quartil: 416.25\n",
            "\n"
          ]
        }
      ]
    }
  ]
}